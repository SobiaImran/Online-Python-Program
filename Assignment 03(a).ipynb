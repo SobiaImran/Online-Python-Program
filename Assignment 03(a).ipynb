{
 "cells": [
  {
   "cell_type": "code",
   "execution_count": 6,
   "id": "9354251a",
   "metadata": {},
   "outputs": [
    {
     "name": "stdout",
     "output_type": "stream",
     "text": [
      " Twinkle, Twinkle, Little Star,\n",
      "          How I wonder what you are, \n",
      "                 Up above the worls so high, \n",
      "                 like a Dimond in the sky. \n",
      " Twinkle, Twinkle, Little Star, \n",
      "          How I wonder what you are.\n"
     ]
    }
   ],
   "source": [
    "\"\"\"1. Write a Python program to print the following string in a specific format (see the\n",
    "output).\n",
    "Twinkle, twinkle, little star,\n",
    "\n",
    "How I wonder what you are!\n",
    "\n",
    "Up above the world so high,\n",
    "Like a diamond in the sky.\n",
    "\n",
    "Twinkle, twinkle, little star,\n",
    "\n",
    "How I wonder what you are\"\"\"\n",
    "\n",
    "print(\" Twinkle, Twinkle, Little Star,\\n          How I wonder what you are, \\n                 Up above the worls so high, \\n                 like a Dimond in the sky. \\n Twinkle, Twinkle, Little Star, \\n          How I wonder what you are.\")"
   ]
  },
  {
   "cell_type": "code",
   "execution_count": 11,
   "id": "d3ed641e",
   "metadata": {},
   "outputs": [
    {
     "name": "stdout",
     "output_type": "stream",
     "text": [
      "3.8.8 (default, Apr 13 2021, 15:08:03) [MSC v.1916 64 bit (AMD64)]\n"
     ]
    }
   ],
   "source": [
    "\"\"\"2. Write a Python program to get the Python version you are using\"\"\"\n",
    "\n",
    "\"\"\"Python --version\"\"\"\n",
    "import sys\n",
    "print(sys.version)"
   ]
  },
  {
   "cell_type": "code",
   "execution_count": 10,
   "id": "726c9341",
   "metadata": {},
   "outputs": [
    {
     "name": "stdout",
     "output_type": "stream",
     "text": [
      "date and time now:  24/10/2021 16:04:00\n"
     ]
    }
   ],
   "source": [
    "\"\"\"3. Write a Python program to display the current date and time.\"\"\"\n",
    "\n",
    "dt = now.strftime(\"%d/%m/%Y %H:%M:%S\")\n",
    "print(\"date and time now: \", dt)"
   ]
  },
  {
   "cell_type": "code",
   "execution_count": 1,
   "id": "6ca0498f",
   "metadata": {},
   "outputs": [
    {
     "name": "stdout",
     "output_type": "stream",
     "text": [
      "Enter radius of circle :  6\n",
      "Area of the circle is: 113.09733552923255\n"
     ]
    }
   ],
   "source": [
    "\"\"\"4. Write a Python program which accepts the radius of a circle from the user and compute\n",
    "the area. \"\"\"\n",
    "\n",
    "from math import pi\n",
    "\n",
    "r = float(input (\"Enter radius of circle : \"))\n",
    "\n",
    "print (\"Area of the circle is: \" + str(pi * r**2))"
   ]
  },
  {
   "cell_type": "code",
   "execution_count": 9,
   "id": "3a678eda",
   "metadata": {},
   "outputs": [
    {
     "name": "stdout",
     "output_type": "stream",
     "text": [
      "narmI aiboS\n"
     ]
    }
   ],
   "source": [
    "\"\"\"5. Write a Python program which accepts the user's first and last name and print them in\n",
    "reverse order with a space between them.\"\"\"\n",
    "\n",
    "txt = \"Sobia Imran\"[::-1]\n",
    "print(txt)"
   ]
  },
  {
   "cell_type": "code",
   "execution_count": 11,
   "id": "ada5523a",
   "metadata": {},
   "outputs": [
    {
     "name": "stdout",
     "output_type": "stream",
     "text": [
      "enter first number: 5\n",
      "enter second number: 8\n",
      "sum: 13\n"
     ]
    }
   ],
   "source": [
    "\"\"\"6. Write a python program which takes two inputs from user and print them addition. \"\"\"\n",
    "\n",
    "a = int(input(\"enter first number: \"))\n",
    "b = int(input(\"enter second number: \"))\n",
    "sum = a + b;\n",
    "print(\"sum:\", sum)"
   ]
  },
  {
   "cell_type": "code",
   "execution_count": 15,
   "id": "146f0c8e",
   "metadata": {},
   "outputs": [
    {
     "name": "stdout",
     "output_type": "stream",
     "text": [
      "Enter marks of the first subject: 54\n",
      "Enter marks of the second subject: 36\n",
      "Enter marks of the third subject: 75\n",
      "Enter marks of the fourth subject: 84\n",
      "Enter marks of the fifth subject: 38\n",
      "GAIN= 287\n",
      "TOTAL= 500\n",
      "percentage= 57.4\n",
      "grade A+\n"
     ]
    }
   ],
   "source": [
    "\"\"\"7. Write a program which takes 5 inputs from user for different subject’s marks, total it\n",
    "and generate mark sheet using grades ?\"\"\"\n",
    "\n",
    "sub1=int(input(\"Enter marks of the first subject: \"))\n",
    "sub2=int(input(\"Enter marks of the second subject: \"))\n",
    "sub3=int(input(\"Enter marks of the third subject: \"))\n",
    "sub4=int(input(\"Enter marks of the fourth subject: \"))\n",
    "sub5=int(input(\"Enter marks of the fifth subject: \"))\n",
    "obtained = sub1 + sub2 + sub3 + sub4 + sub5;\n",
    "print(\"GAIN=\", obtained)\n",
    "total=500;\n",
    "print(\"TOTAL=\", total)\n",
    "Percentage=obtained/total*100;\n",
    "print(\"percentage=\", Percentage)\n",
    "if Percentage<100 or Percentage>80:\n",
    "    print(\"grade A+\")\n",
    "elif Percentage<80 and Percentage>70:\n",
    "    print(\"grade A\")\n",
    "elif Percentage<70 and Percentage>60:\n",
    "    print(\"grade B\")\n",
    "elif Percentage<60 and Percentage>50:\n",
    "    print(\"grade D\")\n",
    "else:\n",
    "    print(\"FALI\")"
   ]
  },
  {
   "cell_type": "code",
   "execution_count": 16,
   "id": "09e1e728",
   "metadata": {},
   "outputs": [
    {
     "name": "stdout",
     "output_type": "stream",
     "text": [
      "Enter a number: 7\n",
      "This is an odd number.\n"
     ]
    }
   ],
   "source": [
    "\"\"\"8. Write a program which take input from user and identify that the given number is even\n",
    "or odd? \"\"\"\n",
    "\n",
    "num = int(input(\"Enter a number: \"))\n",
    "mod = num % 2\n",
    "if mod > 0:\n",
    "    print(\"This is an odd number.\")\n",
    "else:\n",
    "    print(\"This is an even number.\")"
   ]
  },
  {
   "cell_type": "code",
   "execution_count": 20,
   "id": "baefb757",
   "metadata": {},
   "outputs": [
    {
     "name": "stdout",
     "output_type": "stream",
     "text": [
      "Length of the input string:\n",
      "5\n"
     ]
    }
   ],
   "source": [
    "\"\"\"9. Write a program which print the length of the list? \"\"\"\n",
    "\n",
    "inp_lst = ['Sobia','Jawad','Knife','Machine Learning','Grapes']\n",
    "size = 0\n",
    "print(\"Length of the input string:\")\n",
    "for x in inp_lst:\n",
    "    size+=1\n",
    "print(size)"
   ]
  }
 ],
 "metadata": {
  "kernelspec": {
   "display_name": "Python 3",
   "language": "python",
   "name": "python3"
  },
  "language_info": {
   "codemirror_mode": {
    "name": "ipython",
    "version": 3
   },
   "file_extension": ".py",
   "mimetype": "text/x-python",
   "name": "python",
   "nbconvert_exporter": "python",
   "pygments_lexer": "ipython3",
   "version": "3.8.8"
  }
 },
 "nbformat": 4,
 "nbformat_minor": 5
}
